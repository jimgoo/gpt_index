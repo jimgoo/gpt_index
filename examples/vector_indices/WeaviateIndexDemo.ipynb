{
 "cells": [
  {
   "cell_type": "markdown",
   "id": "307804a3-c02b-4a57-ac0d-172c30ddc851",
   "metadata": {},
   "source": [
    "# Weaviate Index Demo"
   ]
  },
  {
   "cell_type": "markdown",
   "id": "f7010b1d-d1bb-4f08-9309-a328bb4ea396",
   "metadata": {},
   "source": [
    "#### Creating a Weaviate Client"
   ]
  },
  {
   "cell_type": "code",
   "execution_count": 1,
   "id": "72a4b618-668d-4713-84c5-6362030e9f19",
   "metadata": {},
   "outputs": [],
   "source": [
    "import weaviate"
   ]
  },
  {
   "cell_type": "code",
   "execution_count": 2,
   "id": "0c9f4d21-145a-401e-95ff-ccb259e8ef84",
   "metadata": {},
   "outputs": [],
   "source": [
    "resource_owner_config = weaviate.AuthClientPassword(\n",
    "  username = \"<username>\", \n",
    "  password = \"<password>\", \n",
    ")"
   ]
  },
  {
   "cell_type": "code",
   "execution_count": 5,
   "id": "df8b27e5-5ad5-4dfe-90c7-0cf1f1d1b37f",
   "metadata": {},
   "outputs": [],
   "source": [
    "#client = weaviate.Client(\"https://<cluster-id>.semi.network/\", auth_client_secret=resource_owner_config)\n",
    "client = weaviate.Client(\"http://localhost:8080\")"
   ]
  },
  {
   "cell_type": "markdown",
   "id": "8ee4473a-094f-4d0a-a825-e1213db07240",
   "metadata": {},
   "source": [
    "#### Load documents, build the GPTWeaviateIndex"
   ]
  },
  {
   "cell_type": "code",
   "execution_count": 6,
   "id": "0a2bcc07",
   "metadata": {},
   "outputs": [],
   "source": [
    "from gpt_index import GPTWeaviateIndex, SimpleDirectoryReader\n",
    "from IPython.display import Markdown, display"
   ]
  },
  {
   "cell_type": "code",
   "execution_count": 7,
   "id": "68cbd239-880e-41a3-98d8-dbb3fab55431",
   "metadata": {},
   "outputs": [],
   "source": [
    "# load documents\n",
    "documents = SimpleDirectoryReader('../paul_graham_essay/data').load_data()"
   ]
  },
  {
   "cell_type": "code",
   "execution_count": 10,
   "id": "9bf902f8-fb51-4aad-8a50-c567333555cd",
   "metadata": {},
   "outputs": [
    {
     "data": {
      "text/plain": [
       "1"
      ]
     },
     "execution_count": 10,
     "metadata": {},
     "output_type": "execute_result"
    }
   ],
   "source": [
    "len(documents)"
   ]
  },
  {
   "cell_type": "code",
   "execution_count": 8,
   "id": "ba1558b3",
   "metadata": {},
   "outputs": [
    {
     "name": "stdout",
     "output_type": "stream",
     "text": [
      "> Adding chunk: \t\t\n",
      "\n",
      "What I Worked On\n",
      "\n",
      "February 2021\n",
      "\n",
      "Before col...\n",
      "> Adding chunk: only up to age 25 and already there are such co...\n",
      "> Adding chunk: clear that it was even possible. To find out, w...\n",
      "> Adding chunk: a name for the kind of company Viaweb was, an \"...\n",
      "> Adding chunk: get their initial set of customers almost entir...\n",
      "> Adding chunk: had smart people and built impressive technolog...\n",
      "> [build_index_from_documents] Total LLM token usage: 0 tokens\n",
      "> [build_index_from_documents] Total embedding token usage: 17621 tokens\n"
     ]
    }
   ],
   "source": [
    "index = GPTWeaviateIndex(documents, weaviate_client=client)\n",
    "\n",
    "# NOTE: you may also choose to define a class_prefix manually.\n",
    "# class_prefix = \"test_prefix\"\n",
    "# index = GPTWeaviateIndex(documents, weaviate_client=client, class_prefix=class_prefix)"
   ]
  },
  {
   "cell_type": "code",
   "execution_count": 9,
   "id": "c36cadc1",
   "metadata": {},
   "outputs": [],
   "source": [
    "# save index to disk\n",
    "index.save_to_disk('index_weaviate.json')"
   ]
  },
  {
   "cell_type": "code",
   "execution_count": 11,
   "id": "1f09d9c6-4a19-4efc-a6d2-34fe485c16bc",
   "metadata": {},
   "outputs": [
    {
     "data": {
      "text/plain": [
       "{'classes': [{'class': 'Gpt_Index_7525487223651875604_Node',\n",
       "   'description': 'Class for Gpt_Index_7525487223651875604_Node',\n",
       "   'invertedIndexConfig': {'bm25': {'b': 0.75, 'k1': 1.2},\n",
       "    'cleanupIntervalSeconds': 60,\n",
       "    'stopwords': {'additions': None, 'preset': 'en', 'removals': None}},\n",
       "   'properties': [{'dataType': ['string'],\n",
       "     'description': 'Text property',\n",
       "     'name': 'text',\n",
       "     'tokenization': 'word'},\n",
       "    {'dataType': ['string'],\n",
       "     'description': 'Document id',\n",
       "     'name': 'doc_id',\n",
       "     'tokenization': 'word'},\n",
       "    {'dataType': ['string'],\n",
       "     'description': 'extra_info (in JSON)',\n",
       "     'name': 'extra_info',\n",
       "     'tokenization': 'word'},\n",
       "    {'dataType': ['int'],\n",
       "     'description': 'The index of the Node',\n",
       "     'name': 'index'},\n",
       "    {'dataType': ['int[]'],\n",
       "     'description': 'The child_indices of the Node',\n",
       "     'name': 'child_indices'},\n",
       "    {'dataType': ['string'],\n",
       "     'description': 'The ref_doc_id of the Node',\n",
       "     'name': 'ref_doc_id',\n",
       "     'tokenization': 'word'},\n",
       "    {'dataType': ['string'],\n",
       "     'description': 'node_info (in JSON)',\n",
       "     'name': 'node_info',\n",
       "     'tokenization': 'word'}],\n",
       "   'replicationConfig': {'factor': 1},\n",
       "   'shardingConfig': {'virtualPerPhysical': 128,\n",
       "    'desiredCount': 1,\n",
       "    'actualCount': 1,\n",
       "    'desiredVirtualCount': 128,\n",
       "    'actualVirtualCount': 128,\n",
       "    'key': '_id',\n",
       "    'strategy': 'hash',\n",
       "    'function': 'murmur3'},\n",
       "   'vectorIndexConfig': {'skip': False,\n",
       "    'cleanupIntervalSeconds': 300,\n",
       "    'maxConnections': 64,\n",
       "    'efConstruction': 128,\n",
       "    'ef': -1,\n",
       "    'dynamicEfMin': 100,\n",
       "    'dynamicEfMax': 500,\n",
       "    'dynamicEfFactor': 8,\n",
       "    'vectorCacheMaxObjects': 1000000000000,\n",
       "    'flatSearchCutoff': 40000,\n",
       "    'distance': 'cosine'},\n",
       "   'vectorIndexType': 'hnsw',\n",
       "   'vectorizer': 'none'}]}"
      ]
     },
     "execution_count": 11,
     "metadata": {},
     "output_type": "execute_result"
    }
   ],
   "source": [
    "schema = client.schema.get()\n",
    "schema"
   ]
  },
  {
   "cell_type": "code",
   "execution_count": 14,
   "id": "ad1291e3-d576-4ea7-86a9-6b0f9827ec4c",
   "metadata": {},
   "outputs": [
    {
     "name": "stdout",
     "output_type": "stream",
     "text": [
      "{\n",
      "  \"classes\": [\n",
      "    {\n",
      "      \"class\": \"Gpt_Index_7525487223651875604_Node\",\n",
      "      \"description\": \"Class for Gpt_Index_7525487223651875604_Node\",\n",
      "      \"invertedIndexConfig\": {\n",
      "        \"bm25\": {\n",
      "          \"b\": 0.75,\n",
      "          \"k1\": 1.2\n",
      "        },\n",
      "        \"cleanupIntervalSeconds\": 60,\n",
      "        \"stopwords\": {\n",
      "          \"additions\": null,\n",
      "          \"preset\": \"en\",\n",
      "          \"removals\": null\n",
      "        }\n",
      "      },\n",
      "      \"properties\": [\n",
      "        {\n",
      "          \"dataType\": [\n",
      "            \"string\"\n",
      "          ],\n",
      "          \"description\": \"Text property\",\n",
      "          \"name\": \"text\",\n",
      "          \"tokenization\": \"word\"\n",
      "        },\n",
      "        {\n",
      "          \"dataType\": [\n",
      "            \"string\"\n",
      "          ],\n",
      "          \"description\": \"Document id\",\n",
      "          \"name\": \"doc_id\",\n",
      "          \"tokenization\": \"word\"\n",
      "        },\n",
      "        {\n",
      "          \"dataType\": [\n",
      "            \"string\"\n",
      "          ],\n",
      "          \"description\": \"extra_info (in JSON)\",\n",
      "          \"name\": \"extra_info\",\n",
      "          \"tokenization\": \"word\"\n",
      "        },\n",
      "        {\n",
      "          \"dataType\": [\n",
      "            \"int\"\n",
      "          ],\n",
      "          \"description\": \"The index of the Node\",\n",
      "          \"name\": \"index\"\n",
      "        },\n",
      "        {\n",
      "          \"dataType\": [\n",
      "            \"int[]\"\n",
      "          ],\n",
      "          \"description\": \"The child_indices of the Node\",\n",
      "          \"name\": \"child_indices\"\n",
      "        },\n",
      "        {\n",
      "          \"dataType\": [\n",
      "            \"string\"\n",
      "          ],\n",
      "          \"description\": \"The ref_doc_id of the Node\",\n",
      "          \"name\": \"ref_doc_id\",\n",
      "          \"tokenization\": \"word\"\n",
      "        },\n",
      "        {\n",
      "          \"dataType\": [\n",
      "            \"string\"\n",
      "          ],\n",
      "          \"description\": \"node_info (in JSON)\",\n",
      "          \"name\": \"node_info\",\n",
      "          \"tokenization\": \"word\"\n",
      "        }\n",
      "      ],\n",
      "      \"replicationConfig\": {\n",
      "        \"factor\": 1\n",
      "      },\n",
      "      \"shardingConfig\": {\n",
      "        \"virtualPerPhysical\": 128,\n",
      "        \"desiredCount\": 1,\n",
      "        \"actualCount\": 1,\n",
      "        \"desiredVirtualCount\": 128,\n",
      "        \"actualVirtualCount\": 128,\n",
      "        \"key\": \"_id\",\n",
      "        \"strategy\": \"hash\",\n",
      "        \"function\": \"murmur3\"\n",
      "      },\n",
      "      \"vectorIndexConfig\": {\n",
      "        \"skip\": false,\n",
      "        \"cleanupIntervalSeconds\": 300,\n",
      "        \"maxConnections\": 64,\n",
      "        \"efConstruction\": 128,\n",
      "        \"ef\": -1,\n",
      "        \"dynamicEfMin\": 100,\n",
      "        \"dynamicEfMax\": 500,\n",
      "        \"dynamicEfFactor\": 8,\n",
      "        \"vectorCacheMaxObjects\": 1000000000000,\n",
      "        \"flatSearchCutoff\": 40000,\n",
      "        \"distance\": \"cosine\"\n",
      "      },\n",
      "      \"vectorIndexType\": \"hnsw\",\n",
      "      \"vectorizer\": \"none\"\n",
      "    }\n",
      "  ]\n",
      "}\n"
     ]
    }
   ],
   "source": [
    "import json\n",
    "print(json.dumps(schema, indent=2))"
   ]
  },
  {
   "cell_type": "code",
   "execution_count": 15,
   "id": "70b372a7",
   "metadata": {},
   "outputs": [],
   "source": [
    "# load index from disk\n",
    "index = GPTWeaviateIndex.load_from_disk('index_weaviate.json', weaviate_client=client)"
   ]
  },
  {
   "cell_type": "markdown",
   "id": "04304299-fc3e-40a0-8600-f50c3292767e",
   "metadata": {},
   "source": [
    "#### Query Index"
   ]
  },
  {
   "cell_type": "code",
   "execution_count": 16,
   "id": "35369eda",
   "metadata": {},
   "outputs": [
    {
     "name": "stdout",
     "output_type": "stream",
     "text": [
      "> Top 1 nodes:\n",
      "> [Node 0] \t\t\n",
      "\n",
      "What I Worked On\n",
      "\n",
      "February 2021\n",
      "\n",
      "Before college the two main things I worked on, outside of s...\n",
      "> Searching in chunk: \t\t\n",
      "\n",
      "What I Worked On\n",
      "\n",
      "February 2021\n",
      "\n",
      "Before col...\n",
      "> Initial response: \n",
      "The author grew up writing short stories, programming on an IBM 1401, and building a computer kit with a friend. He also wrote simple games, a program to predict how high his model rockets would fly, and a word processor. He studied philosophy in college, but switched to AI and taught himself Lisp. He wrote a book about Lisp hacking and reverse-engineered SHRDLU. He also took art classes at Harvard and applied to art schools.\n",
      "> Refine context: limited vocabulary. [2]\n",
      "\n",
      "I'm only up to age 25 ...\n",
      "> Refined response: \n",
      "\n",
      "The author grew up writing short stories, programming on an IBM 1401, and building a computer kit with a friend. He also wrote simple games, a program to predict how high his model rockets would fly, and a word processor. He studied philosophy in college, but switched to AI and taught himself Lisp. He wrote a book about Lisp hacking and reverse-engineered SHRDLU. He also took art classes at Harvard and applied to art schools, but was disappointed by the lack of teaching and learning in the painting department at the Accademia. He also had experience with 19th century studio painting conventions, such as having a little stove fed with kindling and a nude model sitting as close to it as possible.\n",
      "> [query] Total LLM token usage: 3841 tokens\n",
      "> [query] Total embedding token usage: 8 tokens\n"
     ]
    }
   ],
   "source": [
    "# try verbose=True for more detailed outputs\n",
    "response = index.query(\"What did the author do growing up?\", verbose=True)"
   ]
  },
  {
   "cell_type": "code",
   "execution_count": 17,
   "id": "bedbb693-725f-478f-be26-fa7180ea38b2",
   "metadata": {},
   "outputs": [
    {
     "data": {
      "text/markdown": [
       "<b>\n",
       "\n",
       "The author grew up writing short stories, programming on an IBM 1401, and building a computer kit with a friend. He also wrote simple games, a program to predict how high his model rockets would fly, and a word processor. He studied philosophy in college, but switched to AI and taught himself Lisp. He wrote a book about Lisp hacking and reverse-engineered SHRDLU. He also took art classes at Harvard and applied to art schools, but was disappointed by the lack of teaching and learning in the painting department at the Accademia. He also had experience with 19th century studio painting conventions, such as having a little stove fed with kindling and a nude model sitting as close to it as possible.</b>"
      ],
      "text/plain": [
       "<IPython.core.display.Markdown object>"
      ]
     },
     "metadata": {},
     "output_type": "display_data"
    }
   ],
   "source": [
    "display(Markdown(f\"<b>{response}</b>\"))"
   ]
  },
  {
   "cell_type": "code",
   "execution_count": null,
   "id": "c1fbfea0-8246-43c0-9fe9-29a5d5c06065",
   "metadata": {},
   "outputs": [],
   "source": []
  }
 ],
 "metadata": {
  "kernelspec": {
   "display_name": "Python [conda env:gpt-index]",
   "language": "python",
   "name": "conda-env-gpt-index-py"
  },
  "language_info": {
   "codemirror_mode": {
    "name": "ipython",
    "version": 3
   },
   "file_extension": ".py",
   "mimetype": "text/x-python",
   "name": "python",
   "nbconvert_exporter": "python",
   "pygments_lexer": "ipython3",
   "version": "3.10.9"
  }
 },
 "nbformat": 4,
 "nbformat_minor": 5
}
